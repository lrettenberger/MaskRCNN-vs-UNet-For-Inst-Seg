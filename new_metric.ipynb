{
 "cells": [
  {
   "cell_type": "code",
   "execution_count": 2,
   "metadata": {},
   "outputs": [],
   "source": [
    "import tifffile\n",
    "import numpy as np\n",
    "from glob import glob\n",
    "\n",
    "# mask = tifffile.imread('/home/ws/kg2371/datasets/isbi14_challenge/all_test/labels/4.tiff')\n",
    "# max_val = np.sum((mask.sum(0)>0*1.)*len(mask))\n",
    "# min_val = np.sum(mask.sum(0)>0*1.)\n",
    "# val = np.sum(mask.sum(0))\n",
    "# metric = (val-min_val) / (max_val-min_val)"
   ]
  },
  {
   "cell_type": "code",
   "execution_count": 7,
   "metadata": {},
   "outputs": [],
   "source": [
    "metrics = {}\n",
    "# max num of masks = 10\n",
    "# min num of masks = 2\n",
    "\n",
    "#  /home/ws/kg2371/datasets/isbi14_challenge/bin_0/test\n",
    "\n",
    "#for label in glob('/home/ws/kg2371/datasets/isbi14_challenge/all_test/labels/*.tiff'):\n",
    "\n",
    "# for label in glob('/home/ws/kg2371/datasets/isbi14_challenge/bin_5/test/labels/*.tiff'):\n",
    "#     mask = tifffile.imread(label)\n",
    "#     max_val = np.sum((mask.sum(0)>0*1.)*len(mask))\n",
    "#     min_val = np.sum(mask.sum(0)>0*1.)\n",
    "#     val = np.sum(mask.sum(0))\n",
    "#     metric = (val-min_val) / (max_val-min_val)\n",
    "#     metric = metric * (len(mask)/10)\n",
    "#     metrics[metric] = label.split('/')[-1]\n",
    "\n",
    "for label in glob('/home/ws/kg2371/datasets/isbi14_challenge/all_test/labels/*.tiff'):\n",
    "    mask = tifffile.imread(label)\n",
    "    max_val = np.sum((mask.sum(0)>0*1.)*len(mask))\n",
    "    min_val = np.sum(mask.sum(0)>0*1.)\n",
    "    val = np.sum(mask.sum(0))\n",
    "    metric = (val-min_val) / (max_val-min_val)\n",
    "    metric = metric * (len(mask)/10)\n",
    "    metrics[metric] = label.split('/')[-1]\n"
   ]
  },
  {
   "cell_type": "code",
   "execution_count": 3,
   "metadata": {},
   "outputs": [],
   "source": [
    "# EVAL UNET"
   ]
  },
  {
   "cell_type": "code",
   "execution_count": 4,
   "metadata": {},
   "outputs": [
    {
     "name": "stderr",
     "output_type": "stream",
     "text": [
      "/home/ws/kg2371/anaconda3/envs/sem-segmentation/lib/python3.8/site-packages/scipy/__init__.py:146: UserWarning: A NumPy version >=1.16.5 and <1.23.0 is required for this version of SciPy (detected version 1.24.2\n",
      "  warnings.warn(f\"A NumPy version >={np_minversion} and <{np_maxversion}\"\n",
      "INFO:root:Initalizing model\n",
      "ERROR:wandb.jupyter:Failed to detect the name of this notebook, you can set it manually with the WANDB_NOTEBOOK_NAME environment variable to enable code saving.\n",
      "Global seed set to 1337\n"
     ]
    }
   ],
   "source": [
    "import os\n",
    "import wandb\n",
    "import logging\n",
    "from pytorch_lightning.utilities.seed import seed_everything\n",
    "import numpy as np\n",
    "import torch\n",
    "from DLIP.utils.metrics.inst_seg_metrics import get_fast_aji_plus, remap_label\n",
    "from tqdm import tqdm\n",
    "import matplotlib.pyplot as plt\n",
    "from copy import deepcopy\n",
    "import os\n",
    "import wandb\n",
    "import logging\n",
    "from pytorch_lightning.utilities.seed import seed_everything\n",
    "import numpy as np\n",
    "import torch\n",
    "import wandb\n",
    "import pandas as pd \n",
    "from tqdm import tqdm\n",
    "from torchvision.utils import draw_bounding_boxes\n",
    "\n",
    "from DLIP.utils.loading.initialize_wandb import initialize_wandb\n",
    "from DLIP.utils.loading.load_data_module import load_data_module\n",
    "from DLIP.utils.loading.load_model import load_model\n",
    "from DLIP.utils.loading.load_trainer import load_trainer\n",
    "from DLIP.utils.loading.merge_configs import merge_configs\n",
    "from DLIP.utils.loading.parse_arguments import parse_arguments\n",
    "from DLIP.utils.loading.prepare_directory_structure import prepare_directory_structure\n",
    "from DLIP.utils.loading.split_parameters import split_parameters\n",
    "from DLIP.utils.cross_validation.cv_trainer import CVTrainer\n",
    "\n",
    "\n",
    "logging.basicConfig(level=logging.INFO)\n",
    "logging.info(\"Initalizing model\")\n",
    "\n",
    "config_files = '/home/ws/kg2371/projects/sem-segmentation/DLIP/experiments/configurations/bmt_unet.yaml'\n",
    "result_dir = './'\n",
    "\n",
    "\n",
    "cfg_yaml = merge_configs(config_files)\n",
    "base_path=os.path.expandvars(result_dir)\n",
    "experiment_name=cfg_yaml['experiment.name']['value']\n",
    "\n",
    "cfg_yaml['wandb.mode']['value'] = 'disabled'\n",
    "\n",
    "experiment_dir, config_name = prepare_directory_structure(\n",
    "    base_path=base_path,\n",
    "    experiment_name=experiment_name,\n",
    "    data_module_name=cfg_yaml['data.datamodule.name']['value'],\n",
    "    model_name=cfg_yaml['model.name']['value']\n",
    ")\n",
    "\n",
    "config = initialize_wandb(\n",
    "    cfg_yaml=cfg_yaml,\n",
    "    experiment_dir=experiment_dir,\n",
    "    config_name=config_name\n",
    ")\n",
    "\n",
    "config.update({'data.datamodule.arguments.root_dir':f\"{config['prefix']}/{config['root_dir_base']}\"},allow_val_change=True) \n",
    "\n",
    "seed_everything(seed=cfg_yaml['experiment.seed']['value'])\n",
    "parameters_splitted = split_parameters(config, [\"model\", \"train\", \"data\"])\n",
    "\n",
    "from DLIP.utils.post_processing.distmap2inst import DistMapPostProcessor\n",
    "\n",
    "post_pro = DistMapPostProcessor(\n",
    "    sigma_cell=1.0,\n",
    "    th_cell=0.03,\n",
    "    th_seed=0.6,\n",
    "    do_splitting=False,\n",
    "    do_area_based_filtering=False,\n",
    "    do_fill_holes=False,\n",
    "    valid_area_median_factors=[0.25,3]\n",
    ")\n",
    "\n",
    "\n",
    "def get_cfg_clusters(run_lst, cluster_cfg_lst):\n",
    "    run_lst_cp = deepcopy(run_lst)\n",
    "    cfgs= [run_lst_cp[ix].config for ix in range(len(run_lst_cp))]\n",
    "\n",
    "    for ix in range(len(cfgs)):\n",
    "        for key in cluster_cfg_lst:\n",
    "            del cfgs[ix][key]\n",
    "\n",
    "    selected_id = list()\n",
    "    cluster_lst = list()\n",
    "\n",
    "    for ix in range(len(cfgs)):\n",
    "        if ix not in selected_id:\n",
    "            cluster_lst.append([ix])\n",
    "            selected_id.append(ix)\n",
    "            for iy in range(ix+1,len(cfgs)):\n",
    "                if cfgs[ix]==cfgs[iy]:\n",
    "                    cluster_lst[-1].append(iy)\n",
    "                    selected_id.append(iy)\n",
    "\n",
    "    \n",
    "    return cluster_lst\n",
    "\n"
   ]
  },
  {
   "cell_type": "code",
   "execution_count": 5,
   "metadata": {},
   "outputs": [
    {
     "name": "stderr",
     "output_type": "stream",
     "text": [
      "  0%|          | 0/6 [00:00<?, ?it/s]"
     ]
    },
    {
     "name": "stdout",
     "output_type": "stream",
     "text": [
      "bin_5\n"
     ]
    },
    {
     "name": "stderr",
     "output_type": "stream",
     "text": [
      "100%|██████████| 165/165 [00:42<00:00,  3.91it/s]\n",
      "100%|██████████| 165/165 [00:42<00:00,  3.85it/s]\n",
      "100%|██████████| 165/165 [00:42<00:00,  3.92it/s]\n",
      "100%|██████████| 165/165 [00:43<00:00,  3.76it/s]\n",
      "100%|██████████| 6/6 [02:53<00:00, 28.86s/it] "
     ]
    },
    {
     "name": "stdout",
     "output_type": "stream",
     "text": [
      "bin_4\n",
      "bin_3\n",
      "bin_2\n",
      "bin_1\n",
      "bin_0\n"
     ]
    },
    {
     "name": "stderr",
     "output_type": "stream",
     "text": [
      "\n"
     ]
    }
   ],
   "source": [
    "from tqdm import tqdm\n",
    "\n",
    "api = wandb.Api()\n",
    "runs = api.sweep(\"lucare/bmt_unet_vs_maskedrcnn/4g3qp5dp\").runs\n",
    "\n",
    "\n",
    "cluster_lst_seed = get_cfg_clusters(runs, [\"experiment.seed\"])\n",
    "\n",
    "all_ajis = {}\n",
    "for cluster in tqdm(cluster_lst_seed):\n",
    "    print(runs[cluster[0]].config['root_dir_base'])\n",
    "    ajis_cluster = []\n",
    "    for run_id in cluster:\n",
    "        run_i = runs[run_id]\n",
    "        weights_path = f'/home/ws/kg2371/projects/sem-segmentation/results/first-shot/GenericSegmentationDataModule/UnetInstance/{run_i.name.split(\"_\")[-1]}/dnn_weights.ckpt'\n",
    "        model = load_model(parameters_splitted[\"model\"],checkpoint_path_str=weights_path)\n",
    "        model.eval()\n",
    "        ajis = []\n",
    "        for key in tqdm(sorted(metrics.keys())):\n",
    "            x = tifffile.imread(f'/home/ws/kg2371/datasets/isbi14_challenge/all_test/samples/{metrics[key]}')\n",
    "            y_true = tifffile.imread(f'/home/ws/kg2371/datasets/isbi14_challenge/all_test/labels/{metrics[key]}')\n",
    "            y_true_masks = np.stack([x for x in y_true if np.sum(x) > 0])\n",
    "            y_true_masks = sorted(y_true_masks,key=lambda x: np.sum(x))\n",
    "            y_true_masks_summed = np.zeros_like(y_true[0])*0.\n",
    "            for j in range(len(y_true_masks)):\n",
    "                y_true_masks_summed[y_true_masks[j] > 0] = j+1\n",
    "            y_true = y_true_masks_summed\n",
    "            y_pred = model(torch.tensor(x).unsqueeze(0).unsqueeze(0) / 255.)[0,0].detach().cpu().numpy()\n",
    "            y_pred = post_pro.process(y_pred,None)\n",
    "            aji = get_fast_aji_plus(remap_label(y_true),remap_label(y_pred))\n",
    "            ajis.append(aji)\n",
    "        ajis_cluster.append(ajis)\n",
    "    all_ajis[runs[cluster[0]].config['root_dir_base']] = ajis_cluster"
   ]
  },
  {
   "cell_type": "code",
   "execution_count": 6,
   "metadata": {},
   "outputs": [
    {
     "name": "stderr",
     "output_type": "stream",
     "text": [
      "Global seed set to 1337\n"
     ]
    }
   ],
   "source": [
    "config_files = '/home/ws/kg2371/projects/sem-segmentation/DLIP/experiments/configurations/bmt_maskedrcnn.yaml'\n",
    "result_dir = './'\n",
    "\n",
    "cfg_yaml = merge_configs(config_files)\n",
    "base_path=os.path.expandvars(result_dir)\n",
    "experiment_name=cfg_yaml['experiment.name']['value']\n",
    "\n",
    "cfg_yaml['wandb.mode']['value'] = 'disabled'\n",
    "\n",
    "experiment_dir, config_name = prepare_directory_structure(\n",
    "    base_path=base_path,\n",
    "    experiment_name=experiment_name,\n",
    "    data_module_name=cfg_yaml['data.datamodule.name']['value'],\n",
    "    model_name=cfg_yaml['model.name']['value']\n",
    ")\n",
    "\n",
    "config = initialize_wandb(\n",
    "    cfg_yaml=cfg_yaml,\n",
    "    experiment_dir=experiment_dir,\n",
    "    config_name=config_name\n",
    ")\n",
    "\n",
    "config.update({'data.datamodule.arguments.root_dir':f\"{config['prefix']}/{config['root_dir_base']}\"},allow_val_change=True) \n",
    "\n",
    "seed_everything(seed=cfg_yaml['experiment.seed']['value'])\n",
    "parameters_splitted = split_parameters(config, [\"model\", \"train\", \"data\"])\n",
    "\n",
    "\n",
    "MIN_MASK_SIZE_THESHOLD = 10\n",
    "\n",
    "OVERLAPPING_THRESHOLD = 0.41\n",
    "MIN_ACTIVATION = 0.53\n",
    "# conf: lower_threshold = THRESHOLD_CONF, high_threshold = 1.0\n",
    "THRESHOLD_CONF = 0.8\n",
    "# not_conf: lower_threshold = THRESHOLD_NOT_CONF, high_threshold = THRESHOLD_CONF\n",
    "THRESHOLD_NOT_CONF = 0.55\n",
    "\n",
    "def post_process_masked_rcnn(pred,lower_threshold,high_threshold,H,W):\n",
    "    scores = pred['scores']\n",
    "    masks = pred['masks']   \n",
    "    masks = masks[(scores > lower_threshold) & (scores <= high_threshold)]\n",
    "    scores = scores[(scores > lower_threshold) & (scores <= high_threshold)]\n",
    "    masks_summed = torch.zeros((H,W))\n",
    "    if len(masks) == 0:\n",
    "        return masks_summed\n",
    "    final_mask = torch.stack(sorted(masks,key=lambda x: torch.sum(x>MIN_ACTIVATION)))\n",
    "    for j in range(len(final_mask)):\n",
    "        masks_summed[(final_mask[j]> MIN_ACTIVATION).squeeze()] = j+1\n",
    "    return masks_summed.to(torch.uint8)\n",
    "\n",
    "\n"
   ]
  },
  {
   "cell_type": "code",
   "execution_count": 7,
   "metadata": {},
   "outputs": [
    {
     "name": "stdout",
     "output_type": "stream",
     "text": [
      "bin_5\n"
     ]
    },
    {
     "name": "stderr",
     "output_type": "stream",
     "text": [
      "100%|██████████| 165/165 [01:15<00:00,  2.17it/s]\n",
      "100%|██████████| 165/165 [01:15<00:00,  2.18it/s]\n",
      "100%|██████████| 165/165 [01:16<00:00,  2.15it/s]\n",
      "100%|██████████| 165/165 [01:17<00:00,  2.12it/s]"
     ]
    },
    {
     "name": "stdout",
     "output_type": "stream",
     "text": [
      "bin_4\n",
      "bin_3\n",
      "bin_2\n",
      "bin_1\n",
      "bin_0\n"
     ]
    },
    {
     "name": "stderr",
     "output_type": "stream",
     "text": [
      "\n"
     ]
    }
   ],
   "source": [
    "from tqdm import tqdm\n",
    "\n",
    "api = wandb.Api()\n",
    "runs = api.sweep(\"lucare/bmt_unet_vs_maskedrcnn/1me7ydtt\").runs\n",
    "\n",
    "cluster_lst_seed = get_cfg_clusters(runs, [\"experiment.seed\"])\n",
    "\n",
    "all_ajis_masked = {}\n",
    "for cluster in (cluster_lst_seed):\n",
    "    print(runs[cluster[0]].config['root_dir_base'])\n",
    "    ajis_cluster_maskedrcnn = []\n",
    "    for run_id in cluster:\n",
    "        run_i = runs[run_id]\n",
    "        weights_path = f'/home/ws/kg2371/projects/sem-segmentation/results/first-shot/GenericSegmentationDataModule/MaskedRCNN/{run_i.name.split(\"_\")[-1]}/dnn_weights.ckpt'\n",
    "        model = load_model(parameters_splitted[\"model\"],checkpoint_path_str=weights_path)\n",
    "        model.eval()\n",
    "        ajis = []\n",
    "        for key in tqdm(sorted(metrics.keys())):\n",
    "            x = tifffile.imread(f'/home/ws/kg2371/datasets/isbi14_challenge/all_test/samples/{metrics[key]}')\n",
    "            y_true = tifffile.imread(f'/home/ws/kg2371/datasets/isbi14_challenge/all_test/labels/{metrics[key]}')\n",
    "            y_true_masks = np.stack([x for x in y_true if np.sum(x) > 0])\n",
    "            y_true_masks = sorted(y_true_masks,key=lambda x: np.sum(x))\n",
    "            y_true_masks_summed = np.zeros_like(y_true[0])*0.\n",
    "            for j in range(len(y_true_masks)):\n",
    "                y_true_masks_summed[y_true_masks[j] > 0] = j+1\n",
    "            y_true = y_true_masks_summed\n",
    "            y_pred = model(torch.tensor(x).unsqueeze(0).unsqueeze(0) / 255.)[0]\n",
    "            y_pred = post_process_masked_rcnn(y_pred,THRESHOLD_CONF,1.0,512,512).detach().cpu().numpy()\n",
    "            aji = get_fast_aji_plus(remap_label(y_true),remap_label(y_pred))\n",
    "            ajis.append(aji)\n",
    "        ajis_cluster_maskedrcnn.append(ajis)\n",
    "    all_ajis_masked[runs[cluster[0]].config['root_dir_base']] = ajis_cluster_maskedrcnn"
   ]
  },
  {
   "cell_type": "code",
   "execution_count": 9,
   "metadata": {},
   "outputs": [
    {
     "data": {
      "text/plain": [
       "<matplotlib.collections.PathCollection at 0x7f2d6ef0c970>"
      ]
     },
     "execution_count": 9,
     "metadata": {},
     "output_type": "execute_result"
    },
    {
     "data": {
      "image/png": "[encoded data removed]",
      "text/plain": [
       "<Figure size 640x480 with 1 Axes>"
      ]
     },
     "metadata": {},
     "output_type": "display_data"
    }
   ],
   "source": [
    "plt.scatter(x=np.array(sorted(metrics.keys())),y=np.mean(all_ajis['bin_5'],axis=0),c='blue')\n",
    "plt.scatter(x=np.array(sorted(metrics.keys())),y=np.mean(all_ajis_masked['bin_5'],axis=0),c='green')"
   ]
  },
  {
   "cell_type": "code",
   "execution_count": 4,
   "metadata": {},
   "outputs": [],
   "source": [
    "import pickle\n",
    "\n",
    "# with open('all_ajis.pickle', 'wb') as handle:\n",
    "#     pickle.dump(all_ajis, handle, protocol=pickle.HIGHEST_PROTOCOL)\n",
    "\n",
    "with open('all_ajis.pickle', 'rb') as handle:\n",
    "    all_ajis = pickle.load(handle)\n",
    "    \n",
    "# with open('all_ajis_masked.pickle', 'wb') as handle:\n",
    "#     pickle.dump(all_ajis_masked, handle, protocol=pickle.HIGHEST_PROTOCOL)\n",
    "\n",
    "with open('all_ajis_masked.pickle', 'rb') as handle:\n",
    "    all_ajis_masked = pickle.load(handle)"
   ]
  },
  {
   "cell_type": "code",
   "execution_count": 21,
   "metadata": {},
   "outputs": [
    {
     "name": "stderr",
     "output_type": "stream",
     "text": [
      "No handles with labels found to put in legend.\n",
      "No handles with labels found to put in legend.\n",
      "No handles with labels found to put in legend.\n"
     ]
    },
    {
     "name": "stdout",
     "output_type": "stream",
     "text": [
      "Unet: 0.5985577685041638, Masked: 0.639932614025125\n",
      "Unet: 0.701830292630549, Masked: 0.7200955408670975\n",
      "Unet: 0.7078148634783697, Masked: 0.7334650387776833\n"
     ]
    },
    {
     "name": "stderr",
     "output_type": "stream",
     "text": [
      "No handles with labels found to put in legend.\n",
      "No handles with labels found to put in legend.\n",
      "No handles with labels found to put in legend.\n"
     ]
    },
    {
     "name": "stdout",
     "output_type": "stream",
     "text": [
      "Unet: 0.6592129659954473, Masked: 0.7437065410217638\n",
      "Unet: 0.6273112055342067, Masked: 0.7062144724115753\n",
      "Unet: 0.5268047203169868, Masked: 0.6815121036407711\n"
     ]
    }
   ],
   "source": [
    "import matplotlib.pyplot as plt\n",
    "import numpy as np\n",
    "\n",
    "\n",
    "\n",
    "for bin in [0,1,2,3,4,5]:\n",
    "        # You typically want your plot to be ~1.33x wider than tall.\n",
    "    # Common sizes: (10, 7.5) and (12, 9)\n",
    "    plt.figure(figsize=(10,10))\n",
    "\n",
    "    # Remove the plot frame lines. They are unnecessary chartjunk.\n",
    "    ax = plt.subplot(111)\n",
    "    ax.spines[\"top\"].set_visible(False)\n",
    "    ax.spines[\"right\"].set_visible(False)\n",
    "\n",
    "    # Ensure that the axis ticks only show up on the bottom and left of the plot.\n",
    "    # Ticks on the right and top of the plot are generally unnecessary chartjunk.\n",
    "    ax.get_xaxis().tick_bottom()\n",
    "    ax.get_yaxis().tick_left()\n",
    "    \n",
    "    plt.yticks(fontsize=40)  \n",
    "    plt.xticks(fontsize=40)\n",
    "\n",
    "    # Along the same vein, make sure your axis labels are large\n",
    "    # enough to be easily read as well. Make them slightly larger\n",
    "    # than your axis tick labels so they stand out.\n",
    "    plt.xlabel(\"Θ\",fontsize=40)\n",
    "    plt.ylabel(\"AJI+\",fontsize=40)\n",
    "    plt.title(f'S_{bin}')\n",
    "    plt.scatter(x=np.array(sorted(metrics.keys())),y=np.mean(all_ajis[f'bin_{bin}'],axis=0),c='blue',s=20,alpha=0.4)\n",
    "    x=np.array(sorted(metrics.keys()))\n",
    "    y=np.mean(all_ajis[f'bin_{bin}'],axis=0)\n",
    "    plt.plot(np.unique(x), np.poly1d(np.polyfit(x, y, 1))(np.unique(x)),c='blue')\n",
    "    plt.scatter(x=np.array(sorted(metrics.keys())),y=np.mean(all_ajis_masked[f'bin_{bin}'],axis=0),c='green',s=20,alpha=0.4)\n",
    "    x=np.array(sorted(metrics.keys()))\n",
    "    y=np.mean(all_ajis_masked[f'bin_{bin}'],axis=0)\n",
    "    plt.plot(np.unique(x), np.poly1d(np.polyfit(x, y, 1))(np.unique(x)),c='green')\n",
    "    print(f'Unet: {np.mean(np.mean(all_ajis[f\"bin_{bin}\"],axis=0))}, Masked: {np.mean(np.mean(all_ajis_masked[f\"bin_{bin}\"],axis=0))}')\n",
    "    plt.legend(frameon=False)\n",
    "    plt.show()\n",
    "    break\n",
    "    plt.savefig(f'{bin}.svg')\n",
    "    plt.close()"
   ]
  },
  {
   "cell_type": "code",
   "execution_count": null,
   "metadata": {},
   "outputs": [],
   "source": []
  },
  {
   "cell_type": "code",
   "execution_count": null,
   "metadata": {},
   "outputs": [],
   "source": []
  }
 ],
 "metadata": {
  "kernelspec": {
   "display_name": "sem-segmentation",
   "language": "python",
   "name": "python3"
  },
  "language_info": {
   "codemirror_mode": {
    "name": "ipython",
    "version": 3
   },
   "file_extension": ".py",
   "mimetype": "text/x-python",
   "name": "python",
   "nbconvert_exporter": "python",
   "pygments_lexer": "ipython3",
   "version": "3.8.15"
  },
  "orig_nbformat": 4
 },
 "nbformat": 4,
 "nbformat_minor": 2
}
