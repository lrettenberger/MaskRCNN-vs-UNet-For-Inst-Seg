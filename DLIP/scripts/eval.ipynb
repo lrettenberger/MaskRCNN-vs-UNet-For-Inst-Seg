{
 "cells": [
  {
   "cell_type": "code",
   "execution_count": 1,
   "metadata": {},
   "outputs": [],
   "source": [
    "import wandb\n",
    "import pandas as pd \n",
    "import numpy as np\n",
    "\n",
    "api = wandb.Api()\n",
    "runs = api.sweep(\"/lucare/sem-segmentation/053j4m3i\").runs\n",
    "ajis = [x.summary['test/aji+'] for x in runs if 'test/aji+' in x.summary.keys()]"
   ]
  },
  {
   "cell_type": "code",
   "execution_count": null,
   "metadata": {},
   "outputs": [],
   "source": []
  }
 ],
 "metadata": {
  "interpreter": {
   "hash": "19a0a87c8f87ea352a0160a5478a7f782803eb4b49d6eaccdcef6ee5df84c704"
  },
  "kernelspec": {
   "display_name": "Python 3.8.15 ('sem-segmentation')",
   "language": "python",
   "name": "python3"
  },
  "language_info": {
   "codemirror_mode": {
    "name": "ipython",
    "version": 3
   },
   "file_extension": ".py",
   "mimetype": "text/x-python",
   "name": "python",
   "nbconvert_exporter": "python",
   "pygments_lexer": "ipython3",
   "version": "3.8.15"
  },
  "orig_nbformat": 4
 },
 "nbformat": 4,
 "nbformat_minor": 2
}
